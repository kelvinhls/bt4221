{
 "cells": [
  {
   "cell_type": "markdown",
   "metadata": {},
   "source": [
    "# A"
   ]
  },
  {
   "cell_type": "markdown",
   "metadata": {},
   "source": [
    "# Q1: Neural networks do not support missing values"
   ]
  },
  {
   "cell_type": "markdown",
   "metadata": {},
   "source": [
    "# Q2: Splitting the dataset into 2 different groups, training data to train the model on and the validation set which the model is tested on"
   ]
  },
  {
   "cell_type": "markdown",
   "metadata": {},
   "source": [
    "# Q3: Features in a neural network are the variables or attributes in your data set"
   ]
  },
  {
   "cell_type": "markdown",
   "metadata": {},
   "source": [
    "# Q4: The purpose of the activation functions is to introduce non-linearity into the output of a neuron"
   ]
  },
  {
   "cell_type": "markdown",
   "metadata": {},
   "source": [
    "# Q5:"
   ]
  },
  {
   "cell_type": "code",
   "execution_count": 1,
   "metadata": {
    "scrolled": true
   },
   "outputs": [],
   "source": [
    "import pandas as pd\n",
    "import numpy as np\n",
    "from sklearn.preprocessing import StandardScaler\n",
    "from sklearn import preprocessing\n",
    "np.random.seed(123)\n",
    "\n",
    "def preprocess(df):\n",
    "    print('----------------------------------------------')\n",
    "    print(\"Before preprocessing\")\n",
    "    print(\"Number of rows with 0 values for each variable\")\n",
    "    for col in df.columns:\n",
    "        missing_rows = df.loc[df[col]==0].shape[0]\n",
    "        print(col + \": \" + str(missing_rows))\n",
    "    print('----------------------------------------------')\n",
    "\n",
    "    # Replace 0 values with the mean of the existing values\n",
    "    df['Glucose'] = df['Glucose'].replace(0, np.nan)\n",
    "    df['BloodPressure'] = df['BloodPressure'].replace(0, np.nan)\n",
    "    df['SkinThickness'] = df['SkinThickness'].replace(0, np.nan)\n",
    "    df['Insulin'] = df['Insulin'].replace(0, np.nan)\n",
    "    df['BMI'] = df['BMI'].replace(0, np.nan)\n",
    "    df['Glucose'] = df['Glucose'].fillna(df['Glucose'].mean())\n",
    "    df['BloodPressure'] = df['BloodPressure'].fillna(df['BloodPressure'].mean())\n",
    "    df['SkinThickness'] = df['SkinThickness'].fillna(df['SkinThickness'].mean())\n",
    "    df['Insulin'] = df['Insulin'].fillna(df['Insulin'].mean())\n",
    "    df['BMI'] = df['BMI'].fillna(df['BMI'].mean())\n",
    "\n",
    "    print('----------------------------------------------')\n",
    "    print(\"After preprocessing\")\n",
    "    print(\"Number of rows with 0 values for each variable\")\n",
    "    for col in df.columns:\n",
    "        missing_rows = df.loc[df[col]==0].shape[0]\n",
    "        print(col + \": \" + str(missing_rows))\n",
    "    print('----------------------------------------------')\n",
    "\n",
    "    # Standardization\n",
    "    df_scaled = preprocessing.scale(df)\n",
    "    df_scaled = pd.DataFrame(df_scaled, columns=df.columns)\n",
    "    df_scaled['Outcome'] = df['Outcome']\n",
    "    df = df_scaled\n",
    "    \n",
    "\n",
    "    return df"
   ]
  },
  {
   "cell_type": "code",
   "execution_count": 2,
   "metadata": {
    "scrolled": true
   },
   "outputs": [
    {
     "name": "stdout",
     "output_type": "stream",
     "text": [
      "----------------------------------------------\n",
      "Before preprocessing\n",
      "Number of rows with 0 values for each variable\n",
      "Pregnancies: 111\n",
      "Glucose: 5\n",
      "BloodPressure: 35\n",
      "SkinThickness: 227\n",
      "Insulin: 374\n",
      "BMI: 11\n",
      "DiabetesPedigreeFunction: 0\n",
      "Age: 0\n",
      "Outcome: 500\n",
      "----------------------------------------------\n",
      "----------------------------------------------\n",
      "After preprocessing\n",
      "Number of rows with 0 values for each variable\n",
      "Pregnancies: 111\n",
      "Glucose: 0\n",
      "BloodPressure: 0\n",
      "SkinThickness: 0\n",
      "Insulin: 0\n",
      "BMI: 0\n",
      "DiabetesPedigreeFunction: 0\n",
      "Age: 0\n",
      "Outcome: 500\n",
      "----------------------------------------------\n",
      "Training Accuracy: 89.74%\n",
      "\n",
      "Testing Accuracy: 79.22%\n",
      "\n"
     ]
    }
   ],
   "source": [
    "import matplotlib\n",
    "matplotlib.use(\"TkAgg\")\n",
    "import pandas as pd\n",
    "import seaborn as sns\n",
    "from sklearn.model_selection import train_test_split\n",
    "from sklearn.metrics import confusion_matrix\n",
    "from sklearn.metrics import roc_curve\n",
    "from keras.models import Sequential\n",
    "from keras.layers import Dense, Dropout\n",
    "import matplotlib.pyplot as plt\n",
    "import numpy as np\n",
    "np.random.seed(16)\n",
    "\n",
    "try:\n",
    "    df = pd.read_csv('diabetes.csv')\n",
    "except:\n",
    "    print(\"\"\"\n",
    "      Dataset not found in your computer.\n",
    "      Please find proper file path and data set for your BT4221 exercise.\n",
    "      \"\"\")\n",
    "    quit()\n",
    "\n",
    "# Perform preprocessing and feature engineering. Please refer source code in utils.py.\n",
    "df = preprocess(df)\n",
    "\n",
    "# Split the data into a training and testing set\n",
    "X = df.loc[:, df.columns != 'Outcome']\n",
    "y = df.loc[:, 'Outcome']\n",
    "X_train, X_test, y_train, y_test = train_test_split(X, y, test_size=0.2)\n",
    "\n",
    "# Build neural network in Keras using sequential(). kera.models from sequential will make it.\n",
    "model = Sequential()\n",
    "# 'relu' is always used sa the activation function for intermediate hidden layers. We make 32 nodes and the input dimension is 8 (8 input variables). For the first input layer, you need to specify the number of input variables.\n",
    "model.add(Dense(32, activation='relu', input_dim=8))\n",
    "\n",
    "# This is the 2nd hidden layer. Increasing more layers can cause over-fitting and increaing complexity. We are going to use only 2 layers. You can increas the number of layers.\n",
    "model.add(Dense(16, activation='relu'))\n",
    "# The final output layer requires to have a activation function that makes a prediction on the class of the label. We are making a simple binary prediction: 1 for patients with diabetes and 0 for patients w/o diabetes. 'sigmoid' function will be ideal for the bianry choices.\n",
    "model.add(Dense(1, activation='sigmoid'))\n",
    "\n",
    "# Model compilation. We are defining the parameters of the training process via complie. You need to specify three parameters. We use the optimizer as 'adam'. We use the loss function as binary as we are dealing with binary choices. We use metrics for testing metric as accuracy for percentage.\n",
    "model.compile(optimizer='adam', loss='binary_crossentropy', metrics=['accuracy'])\n",
    "\n",
    "# Model training will be initiated\n",
    "model.fit(X_train, y_train, epochs=200, verbose=False)\n",
    "\n",
    "# We are evaluating the model from accuracy rate.\n",
    "scores = model.evaluate(X_train, y_train, verbose=False)\n",
    "print(\"Training Accuracy: %.2f%%\\n\" % (scores[1]*100))\n",
    "scores = model.evaluate(X_test, y_test, verbose=False)\n",
    "print(\"Testing Accuracy: %.2f%%\\n\" % (scores[1]*100))\n",
    "\n",
    "\n"
   ]
  },
  {
   "cell_type": "code",
   "execution_count": 3,
   "metadata": {},
   "outputs": [
    {
     "name": "stdout",
     "output_type": "stream",
     "text": [
      "Training Accuracy: 98.37%\n",
      "\n",
      "Testing Accuracy: 75.97%\n",
      "\n"
     ]
    }
   ],
   "source": [
    "# Build neural network in Keras using sequential(). kera.models from sequential will make it.\n",
    "model = Sequential()\n",
    "# 'relu' is always used sa the activation function for intermediate hidden layers. We make 32 nodes and the input dimension is 8 (8 input variables). For the first input layer, you need to specify the number of input variables.\n",
    "model.add(Dense(32, activation='relu', input_dim=8))\n",
    "\n",
    "model.add(Dense(16, activation='relu'))\n",
    "model.add(Dense(32, activation='relu'))\n",
    "model.add(Dense(16, activation='relu'))\n",
    "model.add(Dense(32, activation='relu'))\n",
    "# This is the 2nd hidden layer. Increasing more layers can cause over-fitting and increaing complexity. We are going to use only 2 layers. You can increas the number of layers.\n",
    "model.add(Dense(16, activation='relu'))\n",
    "# The final output layer requires to have a activation function that makes a prediction on the class of the label. We are making a simple binary prediction: 1 for patients with diabetes and 0 for patients w/o diabetes. 'sigmoid' function will be ideal for the bianry choices.\n",
    "model.add(Dense(1, activation='sigmoid'))\n",
    "\n",
    "# Model compilation. We are defining the parameters of the training process via complie. You need to specify three parameters. We use the optimizer as 'adam'. We use the loss function as binary as we are dealing with binary choices. We use metrics for testing metric as accuracy for percentage.\n",
    "model.compile(optimizer='adam', loss='binary_crossentropy', metrics=['accuracy'])\n",
    "\n",
    "# Model training will be initiated\n",
    "model.fit(X_train, y_train, epochs=200, verbose=False)\n",
    "\n",
    "# We are evaluating the model from accuracy rate.\n",
    "scores = model.evaluate(X_train, y_train, verbose=False)\n",
    "print(\"Training Accuracy: %.2f%%\\n\" % (scores[1]*100))\n",
    "scores = model.evaluate(X_test, y_test, verbose=False)\n",
    "print(\"Testing Accuracy: %.2f%%\\n\" % (scores[1]*100))"
   ]
  },
  {
   "cell_type": "markdown",
   "metadata": {},
   "source": [
    "# When layers increase from 2 to 6, the accuracy score has decreased from 80.5% to 75.3%"
   ]
  },
  {
   "cell_type": "markdown",
   "metadata": {},
   "source": [
    "# Q6"
   ]
  },
  {
   "cell_type": "code",
   "execution_count": 4,
   "metadata": {},
   "outputs": [
    {
     "name": "stdout",
     "output_type": "stream",
     "text": [
      "Training Accuracy: 79.15%\n",
      "\n",
      "Testing Accuracy: 83.77%\n",
      "\n"
     ]
    }
   ],
   "source": [
    "# Build neural network in Keras using sequential(). kera.models from sequential will make it.\n",
    "model = Sequential()\n",
    "# 'relu' is always used sa the activation function for intermediate hidden layers. We make 32 nodes and the input dimension is 8 (8 input variables). For the first input layer, you need to specify the number of input variables.\n",
    "model.add(Dense(32, activation='relu', input_dim=8))\n",
    "model.add(Dropout(0.5))  \n",
    "# This is the 2nd hidden layer. Increasing more layers can cause over-fitting and increaing complexity. We are going to use only 2 layers. You can increas the number of layers.\n",
    "model.add(Dense(16, activation='relu'))\n",
    "model.add(Dropout(0.5))  \n",
    "# The final output layer requires to have a activation function that makes a prediction on the class of the label. We are making a simple binary prediction: 1 for patients with diabetes and 0 for patients w/o diabetes. 'sigmoid' function will be ideal for the bianry choices.\n",
    "model.add(Dense(1, activation='sigmoid'))\n",
    "\n",
    "# Model compilation. We are defining the parameters of the training process via complie. You need to specify three parameters. We use the optimizer as 'adam'. We use the loss function as binary as we are dealing with binary choices. We use metrics for testing metric as accuracy for percentage.\n",
    "model.compile(optimizer='adam', loss='binary_crossentropy', metrics=['accuracy'])\n",
    "\n",
    "# Model training will be initiated\n",
    "model.fit(X_train, y_train, epochs=200, verbose=False)\n",
    "\n",
    "# We are evaluating the model from accuracy rate.\n",
    "scores = model.evaluate(X_train, y_train, verbose=False)\n",
    "print(\"Training Accuracy: %.2f%%\\n\" % (scores[1]*100))\n",
    "scores = model.evaluate(X_test, y_test, verbose=False)\n",
    "print(\"Testing Accuracy: %.2f%%\\n\" % (scores[1]*100))\n",
    "\n",
    "\n"
   ]
  },
  {
   "cell_type": "markdown",
   "metadata": {},
   "source": [
    "# When the number of neurons is changed using the Dropout method, the accuracy increased from 80.5% to 83.12%"
   ]
  },
  {
   "cell_type": "code",
   "execution_count": null,
   "metadata": {},
   "outputs": [],
   "source": []
  }
 ],
 "metadata": {
  "accelerator": "GPU",
  "colab": {
   "collapsed_sections": [],
   "name": "week9-example.ipynb",
   "provenance": []
  },
  "kernelspec": {
   "display_name": "Python 3",
   "language": "python",
   "name": "python3"
  },
  "language_info": {
   "codemirror_mode": {
    "name": "ipython",
    "version": 3
   },
   "file_extension": ".py",
   "mimetype": "text/x-python",
   "name": "python",
   "nbconvert_exporter": "python",
   "pygments_lexer": "ipython3",
   "version": "3.8.8"
  }
 },
 "nbformat": 4,
 "nbformat_minor": 1
}
